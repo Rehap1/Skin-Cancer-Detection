{
  "cells": [
    {
      "cell_type": "markdown",
      "source": [
        "# **CNN MODEL**"
      ],
      "metadata": {
        "id": "QTF1RX2QROQg"
      }
    },
    {
      "cell_type": "code",
      "execution_count": null,
      "metadata": {
        "id": "vixXUTtXz_kW"
      },
      "outputs": [],
      "source": [
        "import keras\n",
        "from keras.models import *\n",
        "from keras.layers import *\n",
        "import matplotlib.pyplot as plt \n",
        "from keras.preprocessing import image\n",
        "import PIL\n",
        "from keras.callbacks import EarlyStopping\n",
        "import os\n",
        "from PIL import Image\n",
        "from keras.preprocessing.image import img_to_array\n",
        "from keras.preprocessing.image import load_img\n",
        "from keras.utils import np_utils"
      ]
    },
    {
      "cell_type": "code",
      "execution_count": 1,
      "metadata": {
        "colab": {
          "base_uri": "https://localhost:8080/"
        },
        "id": "jTNk4Yyvztog",
        "outputId": "49fe9aaf-9598-4776-d409-4f40d38ec035"
      },
      "outputs": [
        {
          "output_type": "stream",
          "name": "stdout",
          "text": [
            "Mounted at /content/drive\n"
          ]
        }
      ],
      "source": [
        "from google.colab import drive\n",
        "drive.mount('/content/drive')"
      ]
    },
    {
      "cell_type": "markdown",
      "source": [
        "\n",
        "\n",
        "**Data Agumentaion and Preprocessing**\n",
        "\n"
      ],
      "metadata": {
        "id": "zqbFEZuWRY0u"
      }
    },
    {
      "cell_type": "code",
      "execution_count": 2,
      "metadata": {
        "id": "7rocerJEz2Ue"
      },
      "outputs": [],
      "source": [
        "from keras.preprocessing.image import ImageDataGenerator\n",
        "\n",
        "# turn photo to array of pixels\n",
        "train_datagen=ImageDataGenerator(rescale = 1./255,\n",
        "                                 rotation_range = 40, \n",
        "                                 width_shift_range = 0.2, \n",
        "                                  height_shift_range = 0.2, \n",
        "                                 shear_range = 0.2, zoom_range = 0.2, \n",
        "                                 horizontal_flip = True,\n",
        "                                 fill_mode='nearest')\n",
        "\n",
        "test_datagen=ImageDataGenerator(rescale=1./255)"
      ]
    },
    {
      "cell_type": "code",
      "source": [
        "train_path='/content/drive/MyDrive/Dataset-Skin/train'\n",
        "test_path='/content/drive/MyDrive/Dataset-Skin/val'"
      ],
      "metadata": {
        "id": "Msvnb8IDQcFN"
      },
      "execution_count": 6,
      "outputs": []
    },
    {
      "cell_type": "code",
      "execution_count": 7,
      "metadata": {
        "colab": {
          "base_uri": "https://localhost:8080/"
        },
        "id": "adf0gNumz7yr",
        "outputId": "1ab6b501-b2c8-46a3-97e7-53acf9a8bce4"
      },
      "outputs": [
        {
          "output_type": "stream",
          "name": "stdout",
          "text": [
            "Found 9203 images belonging to 5 classes.\n",
            "Found 3455 images belonging to 5 classes.\n"
          ]
        }
      ],
      "source": [
        "train_data= train_datagen.flow_from_directory(train_path,\n",
        "                target_size=(224,244),batch_size=32,class_mode='categorical',shuffle=False)\n",
        "test_data= test_datagen.flow_from_directory(test_path,\n",
        "                target_size=(224,244),batch_size=32,class_mode='categorical',shuffle=False)"
      ]
    },
    {
      "cell_type": "code",
      "source": [
        "train_data.class_indices"
      ],
      "metadata": {
        "colab": {
          "base_uri": "https://localhost:8080/"
        },
        "id": "MFx2uX60RtxF",
        "outputId": "5b057d1d-abb4-4ae5-e85c-1ee2bc18e0d8"
      },
      "execution_count": 8,
      "outputs": [
        {
          "output_type": "execute_result",
          "data": {
            "text/plain": [
              "{'1. Eczema 1677': 0,\n",
              " '2. Melanoma 15.75k': 1,\n",
              " '3. Atopic Dermatitis - 1.25k': 2,\n",
              " '4. Basal Cell Carcinoma (BCC) 3323': 3,\n",
              " '7. Psoriasis pictures Lichen Planus and related diseases - 2k': 4}"
            ]
          },
          "metadata": {},
          "execution_count": 8
        }
      ]
    },
    {
      "cell_type": "markdown",
      "source": [
        "**Define the Model**"
      ],
      "metadata": {
        "id": "20ID660XR_hm"
      }
    },
    {
      "cell_type": "code",
      "execution_count": null,
      "metadata": {
        "colab": {
          "base_uri": "https://localhost:8080/"
        },
        "id": "t1zi8rEi0u0S",
        "outputId": "6acf4b70-3ebe-4ac6-dcb5-d26638ef3a6f"
      },
      "outputs": [
        {
          "name": "stdout",
          "output_type": "stream",
          "text": [
            "Model: \"sequential\"\n",
            "_________________________________________________________________\n",
            " Layer (type)                Output Shape              Param #   \n",
            "=================================================================\n",
            " conv2d (Conv2D)             (None, 224, 244, 32)      896       \n",
            "                                                                 \n",
            " conv2d_1 (Conv2D)           (None, 222, 242, 32)      9248      \n",
            "                                                                 \n",
            " average_pooling2d (AverageP  (None, 111, 121, 32)     0         \n",
            " ooling2D)                                                       \n",
            "                                                                 \n",
            " dropout (Dropout)           (None, 111, 121, 32)      0         \n",
            "                                                                 \n",
            " conv2d_2 (Conv2D)           (None, 109, 119, 64)      18496     \n",
            "                                                                 \n",
            " conv2d_3 (Conv2D)           (None, 107, 117, 64)      36928     \n",
            "                                                                 \n",
            " average_pooling2d_1 (Averag  (None, 53, 58, 64)       0         \n",
            " ePooling2D)                                                     \n",
            "                                                                 \n",
            " dropout_1 (Dropout)         (None, 53, 58, 64)        0         \n",
            "                                                                 \n",
            " conv2d_4 (Conv2D)           (None, 51, 56, 64)        36928     \n",
            "                                                                 \n",
            " conv2d_5 (Conv2D)           (None, 49, 54, 64)        36928     \n",
            "                                                                 \n",
            " average_pooling2d_2 (Averag  (None, 24, 27, 64)       0         \n",
            " ePooling2D)                                                     \n",
            "                                                                 \n",
            " dropout_2 (Dropout)         (None, 24, 27, 64)        0         \n",
            "                                                                 \n",
            " conv2d_6 (Conv2D)           (None, 24, 27, 64)        36928     \n",
            "                                                                 \n",
            " conv2d_7 (Conv2D)           (None, 22, 25, 64)        36928     \n",
            "                                                                 \n",
            " average_pooling2d_3 (Averag  (None, 11, 12, 64)       0         \n",
            " ePooling2D)                                                     \n",
            "                                                                 \n",
            " dropout_3 (Dropout)         (None, 11, 12, 64)        0         \n",
            "                                                                 \n",
            " flatten (Flatten)           (None, 8448)              0         \n",
            "                                                                 \n",
            " dense (Dense)               (None, 512)               4325888   \n",
            "                                                                 \n",
            " dropout_4 (Dropout)         (None, 512)               0         \n",
            "                                                                 \n",
            " dense_1 (Dense)             (None, 5)                 2565      \n",
            "                                                                 \n",
            "=================================================================\n",
            "Total params: 4,541,733\n",
            "Trainable params: 4,541,733\n",
            "Non-trainable params: 0\n",
            "_________________________________________________________________\n"
          ]
        }
      ],
      "source": [
        "model = keras.Sequential()\n",
        "    # The first two layers with 32 filters of window size 3x3\n",
        "model.add(Conv2D(32, (3, 3), padding='same', activation='relu', input_shape=(224,244,3)))\n",
        "model.add(Conv2D(32, (3, 3), activation='relu'))\n",
        "model.add(AveragePooling2D(pool_size=(2, 2)))\n",
        "model.add(Dropout(0.25))\n",
        "\n",
        "model.add(Conv2D(64, (3, 3), padding='valid', activation='relu'))\n",
        "model.add(Conv2D(64, (3, 3), activation='relu'))\n",
        "model.add(AveragePooling2D(pool_size=(2, 2)))\n",
        "model.add(Dropout(0.25))\n",
        "\n",
        "model.add(Conv2D(64, (3, 3), padding='valid', activation='relu'))\n",
        "model.add(Conv2D(64, (3, 3), activation='relu'))\n",
        "model.add(AveragePooling2D(pool_size=(2, 2)))\n",
        "model.add(Dropout(0.3))\n",
        "\n",
        "model.add(Conv2D(64, (3, 3), padding='same', activation='tanh'))\n",
        "model.add(Conv2D(64, (3, 3), activation='relu'))\n",
        "model.add(AveragePooling2D(pool_size=(2, 2)))\n",
        "model.add(Dropout(0.25))\n",
        "\n",
        "\n",
        "model.add(Flatten())\n",
        "model.add(Dense(512, activation='relu'))\n",
        "\n",
        "model.add(Dropout(0.4))\n",
        "model.add(Dense(5, activation='softmax'))\n",
        "\n",
        "     \n",
        "model.summary()"
      ]
    },
    {
      "cell_type": "code",
      "execution_count": null,
      "metadata": {
        "id": "Deaq7VXL4WB_"
      },
      "outputs": [],
      "source": [
        "model.compile(loss=keras.losses.categorical_crossentropy, optimizer=\"adamax\", metrics=['accuracy'])"
      ]
    },
    {
      "cell_type": "code",
      "execution_count": null,
      "metadata": {
        "colab": {
          "base_uri": "https://localhost:8080/"
        },
        "id": "_O85Zx4b402o",
        "outputId": "6b262072-6fa1-454a-c071-7403df170381"
      },
      "outputs": [
        {
          "output_type": "stream",
          "name": "stdout",
          "text": [
            "Epoch 1/10\n",
            "252/252 [==============================] - 217s 858ms/step - loss: 0.6594 - accuracy: 0.7135 - val_loss: 0.6447 - val_accuracy: 0.7299\n",
            "Epoch 2/10\n",
            "252/252 [==============================] - 215s 852ms/step - loss: 0.6378 - accuracy: 0.7158 - val_loss: 0.6108 - val_accuracy: 0.7385\n",
            "Epoch 3/10\n",
            "252/252 [==============================] - 224s 891ms/step - loss: 0.6575 - accuracy: 0.7028 - val_loss: 0.6084 - val_accuracy: 0.7290\n",
            "Epoch 4/10\n",
            "252/252 [==============================] - 220s 874ms/step - loss: 0.6394 - accuracy: 0.7176 - val_loss: 0.6767 - val_accuracy: 0.7100\n",
            "Epoch 5/10\n",
            "252/252 [==============================] - 221s 878ms/step - loss: 0.6409 - accuracy: 0.7151 - val_loss: 0.6098 - val_accuracy: 0.7264\n",
            "Epoch 6/10\n",
            "252/252 [==============================] - 223s 884ms/step - loss: 0.6461 - accuracy: 0.7152 - val_loss: 0.6148 - val_accuracy: 0.7212\n"
          ]
        }
      ],
      "source": [
        "esults=model.fit( \n",
        "    train_data,  \n",
        "    epochs=10,\n",
        "    validation_data=test_data,steps_per_epoch=len(train_data),\n",
        "    validation_steps=len(test_data),\n",
        "    callbacks=tf.keras.callbacks.EarlyStopping(patience=3,restore_best_weights=True)\n",
        "  )"
      ]
    },
    {
      "cell_type": "code",
      "execution_count": null,
      "metadata": {
        "colab": {
          "base_uri": "https://localhost:8080/",
          "height": 297
        },
        "id": "Ys3mE2LIYizF",
        "outputId": "432b2dc0-a7bc-411e-df8b-74c12b2fc6c1"
      },
      "outputs": [
        {
          "data": {
            "text/plain": [
              "<matplotlib.legend.Legend at 0x7f8b3018d510>"
            ]
          },
          "execution_count": 9,
          "metadata": {},
          "output_type": "execute_result"
        },
        {
          "data": {
            "image/png": "[encoded data removed]",
            "text/plain": [
              "<Figure size 432x288 with 1 Axes>"
            ]
          },
          "metadata": {},
          "output_type": "display_data"
        }
      ],
      "source": [
        "plt.plot(esults.history['accuracy'], label='accuracy')\n",
        "plt.plot(esults.history['val_accuracy'], label = 'val_accuracy')\n",
        "plt.xlabel('Epoch')\n",
        "plt.ylabel('Accuracy')\n",
        "plt.legend(loc='lower right')"
      ]
    }
  ],
  "metadata": {
    "accelerator": "GPU",
    "colab": {
      "collapsed_sections": [],
      "provenance": []
    },
    "kernelspec": {
      "display_name": "Python 3",
      "name": "python3"
    },
    "language_info": {
      "name": "python"
    }
  },
  "nbformat": 4,
  "nbformat_minor": 0
}