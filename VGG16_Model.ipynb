{
  "nbformat": 4,
  "nbformat_minor": 0,
  "metadata": {
    "colab": {
      "provenance": [],
      "collapsed_sections": []
    },
    "kernelspec": {
      "name": "python3",
      "display_name": "Python 3"
    },
    "language_info": {
      "name": "python"
    },
    "accelerator": "GPU"
  },
  "cells": [
    {
      "cell_type": "markdown",
      "source": [
        "**VGG16 Model**"
      ],
      "metadata": {
        "id": "h-lHK9tmM-pl"
      }
    },
    {
      "cell_type": "code",
      "execution_count": 20,
      "metadata": {
        "id": "GN_6R_Ru3-VR"
      },
      "outputs": [],
      "source": [
        "import os\n",
        "import cv2\n",
        "import keras \n",
        "import numpy as np\n",
        "import pandas as pd\n",
        "from PIL import Image\n",
        "\n",
        "\n",
        "from keras.layers import * \n",
        "from tensorflow.keras import layers\n",
        "from keras.models import Sequential\n",
        "from keras.preprocessing import image\n",
        "from tensorflow.keras.models import Model\n",
        "from keras.callbacks import ModelCheckpoint, EarlyStopping\n",
        "from keras.preprocessing.image import ImageDataGenerator\n",
        "from tensorflow.keras.layers import Input, Lambda, Dense, Flatten,Dropout\n",
        "\n",
        "from keras.applications.vgg16 import VGG16, preprocess_input\n",
        "\n",
        "from sklearn.metrics import accuracy_score\n",
        "\n",
        "import matplotlib.pyplot as plt\n",
        "%matplotlib inline"
      ]
    },
    {
      "cell_type": "markdown",
      "source": [
        "**Connecting to Google Drive**"
      ],
      "metadata": {
        "id": "ZiExLOPRNRBS"
      }
    },
    {
      "cell_type": "code",
      "source": [
        "from google.colab import drive\n",
        "drive.mount('/content/drive')"
      ],
      "metadata": {
        "colab": {
          "base_uri": "https://localhost:8080/"
        },
        "id": "I_1rxBQrBKxJ",
        "outputId": "efd87f9a-a5a4-446c-f85f-655307dad445"
      },
      "execution_count": 2,
      "outputs": [
        {
          "output_type": "stream",
          "name": "stdout",
          "text": [
            "Drive already mounted at /content/drive; to attempt to forcibly remount, call drive.mount(\"/content/drive\", force_remount=True).\n"
          ]
        }
      ]
    },
    {
      "cell_type": "markdown",
      "source": [
        "**Data Splitting**"
      ],
      "metadata": {
        "id": "UG4FIYImDK-h"
      }
    },
    {
      "cell_type": "code",
      "source": [
        "!pip install split-folders\n",
        "import splitfolders\n",
        "splitfolders.ratio('/content/drive/MyDrive/IMG_CLASSES', output=\"/content/drive/MyDrive/CLASSES_5\", seed=1337, ratio=(.7,0.3))"
      ],
      "metadata": {
        "id": "Y4vqXbYaUGKj"
      },
      "execution_count": null,
      "outputs": []
    },
    {
      "cell_type": "markdown",
      "source": [
        "**Loading the Dataset**"
      ],
      "metadata": {
        "id": "6S3LlwwdDFkU"
      }
    },
    {
      "cell_type": "code",
      "source": [
        "train_path=\"/content/drive/MyDrive/CLASSES_5/train\"\n",
        "test_path=\"/content/drive/MyDrive/CLASSES_5/val\""
      ],
      "metadata": {
        "id": "tC2sxSnijFQN"
      },
      "execution_count": 3,
      "outputs": []
    },
    {
      "cell_type": "markdown",
      "source": [
        "**Data Agumentaion**"
      ],
      "metadata": {
        "id": "LHUX4OadOLdQ"
      }
    },
    {
      "cell_type": "code",
      "source": [
        "datagen_train = ImageDataGenerator(rotation_range=60, \n",
        "                                   width_shift_range=0.2, \n",
        "                                   height_shift_range=0.2,\n",
        "                                   horizontal_flip=True, \n",
        "                                   vertical_flip=True,\n",
        "                                   shear_range=0.2, \n",
        "                                   zoom_range=0.2, \n",
        "                                   fill_mode='nearest',\n",
        "                                   preprocessing_function=preprocess_input) # VGG16 preprocessing\n",
        "\n",
        "datagen_test= ImageDataGenerator(preprocessing_function=preprocess_input)\n",
        "\n",
        "Dataset_train = datagen_train.flow_from_directory(train_path, target_size=(224, 224), batch_size=64, class_mode='categorical', shuffle=True , seed = 42)\n",
        "\n",
        "Dataset_test = datagen_test.flow_from_directory(test_path, target_size=(224, 224),  batch_size=64,class_mode='categorical',shuffle=True , seed = 42)"
      ],
      "metadata": {
        "colab": {
          "base_uri": "https://localhost:8080/"
        },
        "id": "3_aVRT70Aa8o",
        "outputId": "a6e5c16f-ab92-40b0-9e84-70cb2f80528b"
      },
      "execution_count": 4,
      "outputs": [
        {
          "output_type": "stream",
          "name": "stdout",
          "text": [
            "Found 8051 images belonging to 5 classes.\n",
            "Found 3455 images belonging to 5 classes.\n"
          ]
        }
      ]
    },
    {
      "cell_type": "code",
      "source": [
        "Dataset_train.class_indices\n"
      ],
      "metadata": {
        "colab": {
          "base_uri": "https://localhost:8080/"
        },
        "id": "T00CwUMd46aA",
        "outputId": "a43c75a7-6146-499c-dea4-de17f73553a7"
      },
      "execution_count": 5,
      "outputs": [
        {
          "output_type": "execute_result",
          "data": {
            "text/plain": [
              "{'1. Eczema 1677': 0,\n",
              " '2. Melanoma 15.75k': 1,\n",
              " '3. Atopic Dermatitis - 1.25k': 2,\n",
              " '4. Basal Cell Carcinoma (BCC) 3323': 3,\n",
              " '7. Psoriasis pictures Lichen Planus and related diseases - 2k': 4}"
            ]
          },
          "metadata": {},
          "execution_count": 5
        }
      ]
    },
    {
      "cell_type": "markdown",
      "source": [
        "**Load in Pretrained VGG16 Model**"
      ],
      "metadata": {
        "id": "6FN94w7bSgHc"
      }
    },
    {
      "cell_type": "code",
      "source": [
        "from keras.applications.vgg16 import VGG16\n",
        "\n",
        "base_model = VGG16(input_shape = (224, 224, 3), include_top = False, weights = 'imagenet')\n",
        "\n",
        "for layer in base_model.layers:\n",
        "    print(layer.name)\n",
        "    layer.trainable = False\n",
        "\n",
        "print(len(base_model.layers))"
      ],
      "metadata": {
        "colab": {
          "base_uri": "https://localhost:8080/"
        },
        "id": "vZBwpgnXuGQ_",
        "outputId": "7068244d-62c5-47c8-a175-1519b9f51183"
      },
      "execution_count": 6,
      "outputs": [
        {
          "output_type": "stream",
          "name": "stdout",
          "text": [
            "input_1\n",
            "block1_conv1\n",
            "block1_conv2\n",
            "block1_pool\n",
            "block2_conv1\n",
            "block2_conv2\n",
            "block2_pool\n",
            "block3_conv1\n",
            "block3_conv2\n",
            "block3_conv3\n",
            "block3_pool\n",
            "block4_conv1\n",
            "block4_conv2\n",
            "block4_conv3\n",
            "block4_pool\n",
            "block5_conv1\n",
            "block5_conv2\n",
            "block5_conv3\n",
            "block5_pool\n",
            "19\n"
          ]
        }
      ]
    },
    {
      "cell_type": "markdown",
      "source": [
        "**Define the Model**"
      ],
      "metadata": {
        "id": "RdLofedJ63yj"
      }
    },
    {
      "cell_type": "code",
      "source": [
        "# Flatten the output layer to 1 dimension\n",
        "x = layers.Flatten()(base_model.output)\n",
        "\n",
        "# Add a fully connected layer with 512 hidden units and ReLU activation\n",
        "x = layers.Dense(4000, activation='relu')(x)\n",
        "x = layers.Dense(2000, activation='relu')(x)\n",
        "# Add a dropout rate of 0.3\n",
        "x = layers.Dropout(0.3)(x)\n",
        "\n",
        "# Add a final softmax layer with 1 node for classification output\n",
        "x = layers.Dense(5, activation='softmax')(x)\n",
        "\n",
        "model = tf.keras.models.Model(base_model.input, x)\n",
        "\n"
      ],
      "metadata": {
        "id": "Gu0yJk4R8HO9"
      },
      "execution_count": 7,
      "outputs": []
    },
    {
      "cell_type": "code",
      "source": [
        "model.summary()"
      ],
      "metadata": {
        "colab": {
          "base_uri": "https://localhost:8080/"
        },
        "id": "hhDWkhI26_Xe",
        "outputId": "fb540988-4a52-400f-86c3-5a9dca50bc69"
      },
      "execution_count": 8,
      "outputs": [
        {
          "output_type": "stream",
          "name": "stdout",
          "text": [
            "Model: \"model\"\n",
            "_________________________________________________________________\n",
            " Layer (type)                Output Shape              Param #   \n",
            "=================================================================\n",
            " input_1 (InputLayer)        [(None, 224, 224, 3)]     0         \n",
            "                                                                 \n",
            " block1_conv1 (Conv2D)       (None, 224, 224, 64)      1792      \n",
            "                                                                 \n",
            " block1_conv2 (Conv2D)       (None, 224, 224, 64)      36928     \n",
            "                                                                 \n",
            " block1_pool (MaxPooling2D)  (None, 112, 112, 64)      0         \n",
            "                                                                 \n",
            " block2_conv1 (Conv2D)       (None, 112, 112, 128)     73856     \n",
            "                                                                 \n",
            " block2_conv2 (Conv2D)       (None, 112, 112, 128)     147584    \n",
            "                                                                 \n",
            " block2_pool (MaxPooling2D)  (None, 56, 56, 128)       0         \n",
            "                                                                 \n",
            " block3_conv1 (Conv2D)       (None, 56, 56, 256)       295168    \n",
            "                                                                 \n",
            " block3_conv2 (Conv2D)       (None, 56, 56, 256)       590080    \n",
            "                                                                 \n",
            " block3_conv3 (Conv2D)       (None, 56, 56, 256)       590080    \n",
            "                                                                 \n",
            " block3_pool (MaxPooling2D)  (None, 28, 28, 256)       0         \n",
            "                                                                 \n",
            " block4_conv1 (Conv2D)       (None, 28, 28, 512)       1180160   \n",
            "                                                                 \n",
            " block4_conv2 (Conv2D)       (None, 28, 28, 512)       2359808   \n",
            "                                                                 \n",
            " block4_conv3 (Conv2D)       (None, 28, 28, 512)       2359808   \n",
            "                                                                 \n",
            " block4_pool (MaxPooling2D)  (None, 14, 14, 512)       0         \n",
            "                                                                 \n",
            " block5_conv1 (Conv2D)       (None, 14, 14, 512)       2359808   \n",
            "                                                                 \n",
            " block5_conv2 (Conv2D)       (None, 14, 14, 512)       2359808   \n",
            "                                                                 \n",
            " block5_conv3 (Conv2D)       (None, 14, 14, 512)       2359808   \n",
            "                                                                 \n",
            " block5_pool (MaxPooling2D)  (None, 7, 7, 512)         0         \n",
            "                                                                 \n",
            " flatten (Flatten)           (None, 25088)             0         \n",
            "                                                                 \n",
            " dense (Dense)               (None, 4000)              100356000 \n",
            "                                                                 \n",
            " dense_1 (Dense)             (None, 2000)              8002000   \n",
            "                                                                 \n",
            " dropout (Dropout)           (None, 2000)              0         \n",
            "                                                                 \n",
            " dense_2 (Dense)             (None, 5)                 10005     \n",
            "                                                                 \n",
            "=================================================================\n",
            "Total params: 123,082,693\n",
            "Trainable params: 108,368,005\n",
            "Non-trainable params: 14,714,688\n",
            "_________________________________________________________________\n"
          ]
        }
      ]
    },
    {
      "cell_type": "code",
      "source": [
        "model.compile(optimizer = tf.keras.optimizers.RMSprop(learning_rate=0.001), loss = 'categorical_crossentropy',metrics = ['Accuracy'])"
      ],
      "metadata": {
        "id": "xzR0al2YTjDC"
      },
      "execution_count": 9,
      "outputs": []
    },
    {
      "cell_type": "code",
      "source": [
        "# EarlyStopping\n",
        "early_stop = EarlyStopping(monitor='val_loss',\n",
        "                           patience=10,\n",
        "                           restore_best_weights=True,\n",
        "                           mode='min')"
      ],
      "metadata": {
        "id": "4_l_SanI82KH"
      },
      "execution_count": 10,
      "outputs": []
    },
    {
      "cell_type": "code",
      "source": [
        "history = model.fit(Dataset_train ,\n",
        "                              batch_size=64,\n",
        "                              epochs = 30, \n",
        "                              validation_data = (Dataset_test),\n",
        "                              steps_per_epoch= Dataset_train.samples // 64,\n",
        "                              validation_steps=Dataset_test.samples // 64,\n",
        "                              verbose = 1,\n",
        "                              callbacks=[early_stop]\n",
        "                        )"
      ],
      "metadata": {
        "colab": {
          "base_uri": "https://localhost:8080/"
        },
        "id": "NiFtthhRiAWt",
        "outputId": "ab585a43-7fb8-469d-ce4e-c701dc96342a"
      },
      "execution_count": 11,
      "outputs": [
        {
          "output_type": "stream",
          "name": "stdout",
          "text": [
            "Epoch 1/30\n",
            "125/125 [==============================] - 242s 2s/step - loss: 27.9587 - Accuracy: 0.5923 - val_loss: 1.0901 - val_Accuracy: 0.6798\n",
            "Epoch 2/30\n",
            "125/125 [==============================] - 219s 2s/step - loss: 1.1210 - Accuracy: 0.6930 - val_loss: 1.1496 - val_Accuracy: 0.7002\n",
            "Epoch 3/30\n",
            "125/125 [==============================] - 211s 2s/step - loss: 0.9231 - Accuracy: 0.6989 - val_loss: 2.4565 - val_Accuracy: 0.6642\n",
            "Epoch 4/30\n",
            "125/125 [==============================] - 210s 2s/step - loss: 0.8204 - Accuracy: 0.7152 - val_loss: 1.0872 - val_Accuracy: 0.7341\n",
            "Epoch 5/30\n",
            "125/125 [==============================] - 209s 2s/step - loss: 0.6765 - Accuracy: 0.7262 - val_loss: 0.6209 - val_Accuracy: 0.7571\n",
            "Epoch 6/30\n",
            "125/125 [==============================] - 211s 2s/step - loss: 0.5851 - Accuracy: 0.7493 - val_loss: 0.5925 - val_Accuracy: 0.7621\n",
            "Epoch 7/30\n",
            "125/125 [==============================] - 208s 2s/step - loss: 0.5765 - Accuracy: 0.7550 - val_loss: 0.5512 - val_Accuracy: 0.8013\n",
            "Epoch 8/30\n",
            "125/125 [==============================] - 209s 2s/step - loss: 0.5592 - Accuracy: 0.7708 - val_loss: 0.6295 - val_Accuracy: 0.7547\n",
            "Epoch 9/30\n",
            "125/125 [==============================] - 209s 2s/step - loss: 0.5423 - Accuracy: 0.7769 - val_loss: 0.5973 - val_Accuracy: 0.8063\n",
            "Epoch 10/30\n",
            "125/125 [==============================] - 211s 2s/step - loss: 0.5303 - Accuracy: 0.7868 - val_loss: 0.6314 - val_Accuracy: 0.8143\n",
            "Epoch 11/30\n",
            "125/125 [==============================] - 211s 2s/step - loss: 0.5256 - Accuracy: 0.7839 - val_loss: 0.6179 - val_Accuracy: 0.8004\n",
            "Epoch 12/30\n",
            "125/125 [==============================] - 211s 2s/step - loss: 0.5126 - Accuracy: 0.7948 - val_loss: 1.1330 - val_Accuracy: 0.7904\n",
            "Epoch 13/30\n",
            "125/125 [==============================] - 212s 2s/step - loss: 0.5095 - Accuracy: 0.7937 - val_loss: 0.6101 - val_Accuracy: 0.8087\n",
            "Epoch 14/30\n",
            "125/125 [==============================] - 207s 2s/step - loss: 0.5074 - Accuracy: 0.7975 - val_loss: 0.6978 - val_Accuracy: 0.8131\n",
            "Epoch 15/30\n",
            "125/125 [==============================] - 207s 2s/step - loss: 0.4916 - Accuracy: 0.8012 - val_loss: 0.6032 - val_Accuracy: 0.8258\n",
            "Epoch 16/30\n",
            "125/125 [==============================] - 206s 2s/step - loss: 0.4763 - Accuracy: 0.8122 - val_loss: 0.6591 - val_Accuracy: 0.8107\n",
            "Epoch 17/30\n",
            "125/125 [==============================] - 216s 2s/step - loss: 0.4907 - Accuracy: 0.8044 - val_loss: 1.0749 - val_Accuracy: 0.7995\n"
          ]
        }
      ]
    },
    {
      "cell_type": "code",
      "source": [
        "history.history.keys()"
      ],
      "metadata": {
        "colab": {
          "base_uri": "https://localhost:8080/"
        },
        "id": "ytlwCe_3ysye",
        "outputId": "076385de-ad64-4529-a07d-6d85af62fcab"
      },
      "execution_count": 24,
      "outputs": [
        {
          "output_type": "execute_result",
          "data": {
            "text/plain": [
              "dict_keys(['loss', 'Accuracy', 'val_loss', 'val_Accuracy'])"
            ]
          },
          "metadata": {},
          "execution_count": 24
        }
      ]
    },
    {
      "cell_type": "code",
      "source": [
        "plt.plot(history.history['loss'])\n",
        "plt.plot(history.history['val_loss'])\n",
        "plt.legend(['Training', 'Validation'])\n",
        "plt.title('Training and Validation losses')\n",
        "plt.xlabel('epoch')"
      ],
      "metadata": {
        "colab": {
          "base_uri": "https://localhost:8080/",
          "height": 312
        },
        "id": "pX_kNCu-yzRo",
        "outputId": "a2211c28-6451-4d0a-ce32-79f026d19cae"
      },
      "execution_count": 26,
      "outputs": [
        {
          "output_type": "execute_result",
          "data": {
            "text/plain": [
              "Text(0.5, 0, 'epoch')"
            ]
          },
          "metadata": {},
          "execution_count": 26
        },
        {
          "output_type": "display_data",
          "data": {
            "text/plain": [
              "<Figure size 432x288 with 1 Axes>"
            ],
            "image/png": "[encoded data removed]"
          },
          "metadata": {
            "needs_background": "light"
          }
        }
      ]
    },
    {
      "cell_type": "code",
      "source": [
        "plt.plot(history.history['Accuracy'])\n",
        "plt.plot(history.history['val_Accuracy'])\n",
        "plt.legend(['Training', 'Validation'])\n",
        "plt.title('Training and Validation accuracy')\n",
        "plt.xlabel('epoch')"
      ],
      "metadata": {
        "colab": {
          "base_uri": "https://localhost:8080/",
          "height": 312
        },
        "id": "SDRhnVgJzKEP",
        "outputId": "a667652a-b268-404e-b50b-1b4692206fd9"
      },
      "execution_count": 28,
      "outputs": [
        {
          "output_type": "execute_result",
          "data": {
            "text/plain": [
              "Text(0.5, 0, 'epoch')"
            ]
          },
          "metadata": {},
          "execution_count": 28
        },
        {
          "output_type": "display_data",
          "data": {
            "text/plain": [
              "<Figure size 432x288 with 1 Axes>"
            ],
            "image/png": "[encoded data removed]"
          },
          "metadata": {
            "needs_background": "light"
          }
        }
      ]
    },
    {
      "cell_type": "code",
      "source": [
        "test_loss, test_acc = model.evaluate(Dataset_test)\n",
        "print('test loss :{}   test accuracy :{}'.format(test_loss,test_acc))"
      ],
      "metadata": {
        "colab": {
          "base_uri": "https://localhost:8080/"
        },
        "id": "q26YWQitzb_I",
        "outputId": "7d2c9ba1-cca7-40da-93a6-cb46aa0d4599"
      },
      "execution_count": 29,
      "outputs": [
        {
          "output_type": "stream",
          "name": "stdout",
          "text": [
            "54/54 [==============================] - 41s 762ms/step - loss: 0.5502 - Accuracy: 0.8012\n",
            "test loss :0.5502020716667175   test accuracy :0.8011577129364014\n"
          ]
        }
      ]
    }
  ]
}