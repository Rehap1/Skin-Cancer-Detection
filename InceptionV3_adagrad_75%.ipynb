{
  "cells": [
    {
      "cell_type": "code",
      "execution_count": 1,
      "metadata": {
        "id": "7wvvYmN1rgmT",
        "colab": {
          "base_uri": "https://localhost:8080/"
        },
        "outputId": "53d99990-82f3-4177-8180-f414ae0b2e54"
      },
      "outputs": [
        {
          "output_type": "stream",
          "name": "stdout",
          "text": [
            "Mounted at /content/drive\n"
          ]
        }
      ],
      "source": [
        "from google.colab import drive\n",
        "drive.mount('/content/drive')"
      ]
    },
    {
      "cell_type": "code",
      "execution_count": 12,
      "metadata": {
        "id": "ZssUKWG-rnUz"
      },
      "outputs": [],
      "source": [
        "from keras.preprocessing.image import ImageDataGenerator\n",
        "\n",
        "# turn photo to array of pixels\n",
        "train_datagen=ImageDataGenerator(rescale = 1./255.,rotation_range = 40, width_shift_range = 0.2, \n",
        "height_shift_range = 0.2, shear_range = 0.2, zoom_range = 0.2, horizontal_flip = True)\n",
        "\n",
        "test_datagen=ImageDataGenerator(rescale=1.0/255.)"
      ]
    },
    {
      "cell_type": "code",
      "execution_count": 13,
      "metadata": {
        "id": "T762f3mcsV5K",
        "colab": {
          "base_uri": "https://localhost:8080/"
        },
        "outputId": "a1564317-5cca-480f-cc47-fded7ad4dec3"
      },
      "outputs": [
        {
          "output_type": "stream",
          "name": "stdout",
          "text": [
            "Found 8051 images belonging to 5 classes.\n",
            "Found 2300 images belonging to 5 classes.\n"
          ]
        }
      ],
      "source": [
        "train_data= train_datagen.flow_from_directory('/content/drive/MyDrive/skin_5class/train',\n",
        "                target_size=(224,224),batch_size=32,class_mode='categorical',shuffle=False)\n",
        "test_data= test_datagen.flow_from_directory('/content/drive/MyDrive/skin_5class/val',\n",
        "                target_size=(224,224),batch_size=32,class_mode='categorical',shuffle=False)\n"
      ]
    },
    {
      "cell_type": "code",
      "execution_count": 14,
      "metadata": {
        "id": "9Cfvvzl3sj98"
      },
      "outputs": [],
      "source": [
        "import keras\n",
        "from keras.models import *\n",
        "from keras.layers import *\n",
        "import matplotlib.pyplot as plt \n",
        "from keras.preprocessing import image\n",
        "import PIL\n",
        "from keras.callbacks import EarlyStopping\n",
        "import os\n",
        "from PIL import Image\n",
        "from keras.preprocessing.image import img_to_array\n",
        "from keras.preprocessing.image import load_img\n",
        "from keras.utils import np_utils\n",
        "import tensorflow as tf"
      ]
    },
    {
      "cell_type": "code",
      "source": [
        "from keras.applications.inception_v3 import InceptionV3\n",
        "from keras.applications.densenet import DenseNet201\n"
      ],
      "metadata": {
        "id": "fpbgKrg-PEcj"
      },
      "execution_count": 15,
      "outputs": []
    },
    {
      "cell_type": "code",
      "source": [
        "from keras import layers"
      ],
      "metadata": {
        "id": "zxpUyUGwP-b_"
      },
      "execution_count": 16,
      "outputs": []
    },
    {
      "cell_type": "code",
      "source": [
        "from tensorflow.keras.optimizers import RMSprop\n"
      ],
      "metadata": {
        "id": "SLym7KjtaUD2"
      },
      "execution_count": 17,
      "outputs": []
    },
    {
      "cell_type": "code",
      "source": [
        "base_model = tf.keras.applications.InceptionV3( include_top = False, weights = 'imagenet')\n",
        " "
      ],
      "metadata": {
        "id": "j-INaI07rm96"
      },
      "execution_count": 18,
      "outputs": []
    },
    {
      "cell_type": "code",
      "source": [
        "\n",
        "# Taking the output of the last convolution block in ResNet50\n",
        "x = base_model.output\n",
        " \n",
        "# Adding a Global Average Pooling layer\n",
        "x = GlobalAveragePooling2D()(x)\n",
        " \n",
        "# Adding a fully connected layer having 1024 neurons\n",
        "x = Dense(1024, activation='relu')(x)\n",
        " \n",
        "# Adding a fully connected layer having 2 neurons which will\n",
        "# give the probability of image having either dog or cat\n",
        "predictions = Dense(5, activation='softmax')(x)\n",
        "# Model to be trained\n",
        "model = Model(inputs=base_model.input, outputs=predictions)\n",
        " \n",
        "# Training only top layers i.e. the layers which we have added in the end\n",
        "for layer in base_model.layers:\n",
        "    layer.trainable = False\n",
        "\n",
        "model.compile(loss=keras.losses.categorical_crossentropy, optimizer=tf.keras.optimizers.Adagrad(learning_rate=0.001), metrics=['accuracy'])"
      ],
      "metadata": {
        "id": "ZRRtWV7G_CWA"
      },
      "execution_count": 19,
      "outputs": []
    },
    {
      "cell_type": "code",
      "source": [
        "results=model.fit( \n",
        "    train_data,  \n",
        "    epochs=10,\n",
        "    validation_data=test_data,steps_per_epoch=len(train_data),validation_steps=len(test_data),\n",
        "    callbacks=tf.keras.callbacks.EarlyStopping(patience=3,restore_best_weights=True))"
      ],
      "metadata": {
        "colab": {
          "base_uri": "https://localhost:8080/"
        },
        "id": "3hFFn3JZdaol",
        "outputId": "e8f2642e-8703-463c-9f29-6af5fcb3fcb4"
      },
      "execution_count": 20,
      "outputs": [
        {
          "output_type": "stream",
          "name": "stdout",
          "text": [
            "Epoch 1/10\n",
            "252/252 [==============================] - 2560s 10s/step - loss: 1.1835 - accuracy: 0.5059 - val_loss: 0.8380 - val_accuracy: 0.6400\n",
            "Epoch 2/10\n",
            "252/252 [==============================] - 188s 747ms/step - loss: 0.7959 - accuracy: 0.6813 - val_loss: 0.7273 - val_accuracy: 0.7083\n",
            "Epoch 3/10\n",
            "252/252 [==============================] - 181s 721ms/step - loss: 0.7488 - accuracy: 0.6876 - val_loss: 0.7647 - val_accuracy: 0.6513\n",
            "Epoch 4/10\n",
            "252/252 [==============================] - 181s 719ms/step - loss: 0.7178 - accuracy: 0.6927 - val_loss: 0.7279 - val_accuracy: 0.6926\n",
            "Epoch 5/10\n",
            "252/252 [==============================] - 193s 763ms/step - loss: 0.6886 - accuracy: 0.7091 - val_loss: 0.6360 - val_accuracy: 0.7313\n",
            "Epoch 6/10\n",
            "252/252 [==============================] - 201s 799ms/step - loss: 0.6739 - accuracy: 0.7070 - val_loss: 0.6262 - val_accuracy: 0.7304\n",
            "Epoch 7/10\n",
            "252/252 [==============================] - 196s 776ms/step - loss: 0.6600 - accuracy: 0.7085 - val_loss: 0.5916 - val_accuracy: 0.7509\n",
            "Epoch 8/10\n",
            "252/252 [==============================] - 192s 762ms/step - loss: 0.6307 - accuracy: 0.7320 - val_loss: 0.6010 - val_accuracy: 0.7365\n",
            "Epoch 9/10\n",
            "252/252 [==============================] - 189s 751ms/step - loss: 0.6144 - accuracy: 0.7330 - val_loss: 0.6059 - val_accuracy: 0.7300\n",
            "Epoch 10/10\n",
            "252/252 [==============================] - 186s 737ms/step - loss: 0.6189 - accuracy: 0.7302 - val_loss: 0.5725 - val_accuracy: 0.7587\n"
          ]
        }
      ]
    },
    {
      "cell_type": "code",
      "source": [
        "results=model.fit( \n",
        "    train_data,  \n",
        "    epochs=10,\n",
        "    validation_data=test_data,steps_per_epoch=len(train_data),validation_steps=len(test_data),\n",
        "    callbacks=tf.keras.callbacks.EarlyStopping(patience=3,restore_best_weights=True))"
      ],
      "metadata": {
        "id": "q6Q4qZynmyYH",
        "colab": {
          "base_uri": "https://localhost:8080/"
        },
        "outputId": "66ad9c71-491f-4fa8-ba88-281ef4ae070b"
      },
      "execution_count": 21,
      "outputs": [
        {
          "output_type": "stream",
          "name": "stdout",
          "text": [
            "Epoch 1/10\n",
            "252/252 [==============================] - 191s 759ms/step - loss: 0.6034 - accuracy: 0.7421 - val_loss: 0.5876 - val_accuracy: 0.7535\n",
            "Epoch 2/10\n",
            "252/252 [==============================] - 189s 751ms/step - loss: 0.6034 - accuracy: 0.7375 - val_loss: 0.5870 - val_accuracy: 0.7452\n",
            "Epoch 3/10\n",
            "252/252 [==============================] - 188s 748ms/step - loss: 0.5747 - accuracy: 0.7527 - val_loss: 0.5677 - val_accuracy: 0.7643\n",
            "Epoch 4/10\n",
            "252/252 [==============================] - 189s 751ms/step - loss: 0.5705 - accuracy: 0.7574 - val_loss: 0.5698 - val_accuracy: 0.7574\n",
            "Epoch 5/10\n",
            "252/252 [==============================] - 198s 788ms/step - loss: 0.5726 - accuracy: 0.7573 - val_loss: 0.5660 - val_accuracy: 0.7617\n",
            "Epoch 6/10\n",
            "252/252 [==============================] - 189s 748ms/step - loss: 0.5807 - accuracy: 0.7450 - val_loss: 0.5515 - val_accuracy: 0.7635\n",
            "Epoch 7/10\n",
            "252/252 [==============================] - 195s 770ms/step - loss: 0.5597 - accuracy: 0.7568 - val_loss: 0.5557 - val_accuracy: 0.7604\n",
            "Epoch 8/10\n",
            "252/252 [==============================] - 189s 750ms/step - loss: 0.5535 - accuracy: 0.7656 - val_loss: 0.6122 - val_accuracy: 0.7209\n",
            "Epoch 9/10\n",
            "252/252 [==============================] - 184s 733ms/step - loss: 0.5586 - accuracy: 0.7537 - val_loss: 0.5439 - val_accuracy: 0.7674\n",
            "Epoch 10/10\n",
            "252/252 [==============================] - 186s 739ms/step - loss: 0.5306 - accuracy: 0.7794 - val_loss: 0.5663 - val_accuracy: 0.7435\n"
          ]
        }
      ]
    },
    {
      "cell_type": "code",
      "source": [
        "results=model.fit( \n",
        "    train_data,  \n",
        "    epochs=10,\n",
        "    validation_data=test_data,steps_per_epoch=len(train_data),validation_steps=len(test_data),\n",
        "    callbacks=tf.keras.callbacks.EarlyStopping(patience=3,restore_best_weights=True))"
      ],
      "metadata": {
        "colab": {
          "base_uri": "https://localhost:8080/"
        },
        "id": "X3K3X3ZniDph",
        "outputId": "276df963-7cf6-49c4-c2ed-10cc70a59e8b"
      },
      "execution_count": 22,
      "outputs": [
        {
          "output_type": "stream",
          "name": "stdout",
          "text": [
            "Epoch 1/10\n",
            "252/252 [==============================] - 187s 744ms/step - loss: 0.5562 - accuracy: 0.7575 - val_loss: 0.5497 - val_accuracy: 0.7696\n",
            "Epoch 2/10\n",
            "252/252 [==============================] - 180s 715ms/step - loss: 0.5398 - accuracy: 0.7685 - val_loss: 0.5508 - val_accuracy: 0.7661\n",
            "Epoch 3/10\n",
            "252/252 [==============================] - 179s 712ms/step - loss: 0.5412 - accuracy: 0.7657 - val_loss: 0.5560 - val_accuracy: 0.7587\n",
            "Epoch 4/10\n",
            "252/252 [==============================] - 178s 708ms/step - loss: 0.5361 - accuracy: 0.7654 - val_loss: 0.5396 - val_accuracy: 0.7717\n",
            "Epoch 5/10\n",
            "252/252 [==============================] - 178s 707ms/step - loss: 0.5445 - accuracy: 0.7628 - val_loss: 0.5545 - val_accuracy: 0.7687\n",
            "Epoch 6/10\n",
            "252/252 [==============================] - 178s 705ms/step - loss: 0.5367 - accuracy: 0.7731 - val_loss: 0.5260 - val_accuracy: 0.7778\n",
            "Epoch 7/10\n",
            "252/252 [==============================] - 178s 704ms/step - loss: 0.5354 - accuracy: 0.7684 - val_loss: 0.5487 - val_accuracy: 0.7661\n",
            "Epoch 8/10\n",
            "252/252 [==============================] - 178s 708ms/step - loss: 0.5312 - accuracy: 0.7741 - val_loss: 0.5190 - val_accuracy: 0.7765\n",
            "Epoch 9/10\n",
            "252/252 [==============================] - 179s 711ms/step - loss: 0.5239 - accuracy: 0.7734 - val_loss: 0.5180 - val_accuracy: 0.7800\n",
            "Epoch 10/10\n",
            "252/252 [==============================] - 179s 712ms/step - loss: 0.5331 - accuracy: 0.7731 - val_loss: 0.5274 - val_accuracy: 0.7678\n"
          ]
        }
      ]
    },
    {
      "cell_type": "code",
      "source": [
        "test_loss, test_acc = model.evaluate(test_data)\n",
        "print('test loss :{}   test accuracy :{}'.format(test_loss,test_acc))"
      ],
      "metadata": {
        "colab": {
          "base_uri": "https://localhost:8080/"
        },
        "id": "FTvUI7Hginqb",
        "outputId": "c4f319d7-9c8d-41c0-b757-422b06e07e46"
      },
      "execution_count": 23,
      "outputs": [
        {
          "output_type": "stream",
          "name": "stdout",
          "text": [
            "72/72 [==============================] - 24s 341ms/step - loss: 0.5274 - accuracy: 0.7678\n",
            "test loss :0.5274382829666138   test accuracy :0.7678260803222656\n"
          ]
        }
      ]
    },
    {
      "cell_type": "code",
      "source": [
        "import matplotlib.pyplot as plt\n",
        "%matplotlib inline\n",
        "plt.plot(results.history['loss'])\n",
        "plt.plot(results.history['val_loss'])\n",
        "plt.legend(['Training', 'Validation'])\n",
        "plt.title('Training and Validation losses')\n",
        "plt.xlabel('epoch')"
      ],
      "metadata": {
        "colab": {
          "base_uri": "https://localhost:8080/",
          "height": 313
        },
        "id": "2eZyOgBTpnkh",
        "outputId": "aa9bae98-af99-4816-bdcd-0aef15259fd9"
      },
      "execution_count": 24,
      "outputs": [
        {
          "output_type": "execute_result",
          "data": {
            "text/plain": [
              "Text(0.5, 0, 'epoch')"
            ]
          },
          "metadata": {},
          "execution_count": 24
        },
        {
          "output_type": "display_data",
          "data": {
            "text/plain": [
              "<Figure size 432x288 with 1 Axes>"
            ],
            "image/png": "[encoded data removed]"
          },
          "metadata": {
            "needs_background": "light"
          }
        }
      ]
    },
    {
      "cell_type": "code",
      "source": [
        "plt.plot(results.history['accuracy'])\n",
        "plt.plot(results.history['val_accuracy'])\n",
        "plt.legend(['Training', 'Validation'])\n",
        "plt.title('Training and Validation accuracy')\n",
        "plt.xlabel('epoch')"
      ],
      "metadata": {
        "colab": {
          "base_uri": "https://localhost:8080/",
          "height": 313
        },
        "id": "ucNoypHIps5T",
        "outputId": "74c67c1e-6bc2-4df4-a16f-d584dd6a59b0"
      },
      "execution_count": 25,
      "outputs": [
        {
          "output_type": "execute_result",
          "data": {
            "text/plain": [
              "Text(0.5, 0, 'epoch')"
            ]
          },
          "metadata": {},
          "execution_count": 25
        },
        {
          "output_type": "display_data",
          "data": {
            "text/plain": [
              "<Figure size 432x288 with 1 Axes>"
            ],
            "image/png": "[encoded data removed]"
          },
          "metadata": {
            "needs_background": "light"
          }
        }
      ]
    }
  ],
  "metadata": {
    "colab": {
      "provenance": []
    },
    "kernelspec": {
      "display_name": "Python 3",
      "name": "python3"
    },
    "language_info": {
      "name": "python"
    },
    "accelerator": "GPU"
  },
  "nbformat": 4,
  "nbformat_minor": 0
}