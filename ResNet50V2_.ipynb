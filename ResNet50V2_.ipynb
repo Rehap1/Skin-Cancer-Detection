{
  "cells": [
    {
      "cell_type": "code",
      "execution_count": null,
      "metadata": {
        "id": "7wvvYmN1rgmT",
        "colab": {
          "base_uri": "https://localhost:8080/"
        },
        "outputId": "591862f1-4903-4aef-85f1-2bcb50a6fc1b"
      },
      "outputs": [
        {
          "output_type": "stream",
          "name": "stdout",
          "text": [
            "Mounted at /content/drive\n"
          ]
        }
      ],
      "source": [
        "from google.colab import drive\n",
        "drive.mount('/content/drive')"
      ]
    },
    {
      "cell_type": "code",
      "execution_count": null,
      "metadata": {
        "id": "ZssUKWG-rnUz"
      },
      "outputs": [],
      "source": [
        "from keras.preprocessing.image import ImageDataGenerator\n",
        "\n",
        "# turn photo to array of pixels\n",
        "train_datagen=ImageDataGenerator(rescale = 1./255.,rotation_range = 40, width_shift_range = 0.2, \n",
        "height_shift_range = 0.2, shear_range = 0.2, zoom_range = 0.2, horizontal_flip = True)\n",
        "\n",
        "test_datagen=ImageDataGenerator(rescale=1.0/255.)"
      ]
    },
    {
      "cell_type": "code",
      "execution_count": null,
      "metadata": {
        "id": "T762f3mcsV5K",
        "colab": {
          "base_uri": "https://localhost:8080/"
        },
        "outputId": "3570fd79-a003-46a8-db99-0d5100cbe126"
      },
      "outputs": [
        {
          "output_type": "stream",
          "name": "stdout",
          "text": [
            "Found 9203 images belonging to 5 classes.\n",
            "Found 2303 images belonging to 5 classes.\n"
          ]
        }
      ],
      "source": [
        "train_data= train_datagen.flow_from_directory('/content/drive/MyDrive/skin_5/train',\n",
        "                target_size=(224,224),batch_size=32,class_mode='categorical',shuffle=False)\n",
        "test_data= test_datagen.flow_from_directory('/content/drive/MyDrive/skin_5/val',\n",
        "                target_size=(224,224),batch_size=32,class_mode='categorical',shuffle=False)\n"
      ]
    },
    {
      "cell_type": "code",
      "execution_count": null,
      "metadata": {
        "id": "9Cfvvzl3sj98"
      },
      "outputs": [],
      "source": [
        "import keras\n",
        "from keras.models import *\n",
        "from keras.layers import *\n",
        "import matplotlib.pyplot as plt \n",
        "from keras.preprocessing import image\n",
        "import PIL\n",
        "from keras.callbacks import EarlyStopping\n",
        "import os\n",
        "from PIL import Image\n",
        "from keras.preprocessing.image import img_to_array\n",
        "from keras.preprocessing.image import load_img\n",
        "from keras.utils import np_utils\n",
        "import tensorflow as tf"
      ]
    },
    {
      "cell_type": "code",
      "source": [
        "from keras.applications.inception_v3 import InceptionV3\n",
        "from keras.applications.densenet import DenseNet201\n"
      ],
      "metadata": {
        "id": "fpbgKrg-PEcj"
      },
      "execution_count": null,
      "outputs": []
    },
    {
      "cell_type": "code",
      "source": [
        "from keras import layers"
      ],
      "metadata": {
        "id": "zxpUyUGwP-b_"
      },
      "execution_count": null,
      "outputs": []
    },
    {
      "cell_type": "code",
      "source": [
        "from tensorflow.keras.optimizers import RMSprop\n"
      ],
      "metadata": {
        "id": "SLym7KjtaUD2"
      },
      "execution_count": null,
      "outputs": []
    },
    {
      "cell_type": "code",
      "source": [
        "base_model = tf.keras.applications.ResNet50V2( include_top = False, weights = 'imagenet', input_shape=(224,224,3))\n",
        "for layer in base_model.layers:\n",
        "  layer.trainable = False\n",
        "x = layers.Flatten()(base_model.output)\n",
        "x = layers.Dropout(0.2)(x)\n",
        "x = Dense(4096, activation='relu')(x)\n",
        "x = layers.Dropout(0.2)(x)\n",
        "x = Dense(4096, activation='relu')(x)\n",
        "x = layers.Dropout(0.2)(x)\n",
        "predictions = Dense(5, activation='softmax')(x)\n",
        "# Model to be trained\n",
        "model = Model(inputs=base_model.input, outputs=predictions)"
      ],
      "metadata": {
        "id": "j-INaI07rm96"
      },
      "execution_count": null,
      "outputs": []
    },
    {
      "cell_type": "code",
      "source": [
        "model.compile(loss=keras.losses.categorical_crossentropy, optimizer=tf.keras.optimizers.Adamax(learning_rate=0.0001), metrics=['accuracy'])"
      ],
      "metadata": {
        "id": "ZRRtWV7G_CWA"
      },
      "execution_count": null,
      "outputs": []
    },
    {
      "cell_type": "code",
      "source": [
        "results=model.fit( \n",
        "    train_data,  \n",
        "    epochs=10,\n",
        "    validation_data=test_data,steps_per_epoch=len(train_data),validation_steps=len(test_data),\n",
        "    callbacks=tf.keras.callbacks.EarlyStopping(patience=3,restore_best_weights=True))"
      ],
      "metadata": {
        "colab": {
          "base_uri": "https://localhost:8080/"
        },
        "id": "3hFFn3JZdaol",
        "outputId": "47fbea64-f436-415f-f5d4-8d2faf797cf9"
      },
      "execution_count": null,
      "outputs": [
        {
          "output_type": "stream",
          "name": "stdout",
          "text": [
            "Epoch 1/10\n",
            "288/288 [==============================] - 3320s 11s/step - loss: 1.6740 - accuracy: 0.6498 - val_loss: 0.5666 - val_accuracy: 0.7334\n",
            "Epoch 2/10\n",
            "288/288 [==============================] - 225s 782ms/step - loss: 0.6387 - accuracy: 0.7219 - val_loss: 0.6193 - val_accuracy: 0.7147\n",
            "Epoch 3/10\n",
            "288/288 [==============================] - 219s 760ms/step - loss: 0.5705 - accuracy: 0.7491 - val_loss: 0.4861 - val_accuracy: 0.7746\n",
            "Epoch 4/10\n",
            "288/288 [==============================] - 220s 764ms/step - loss: 0.5549 - accuracy: 0.7538 - val_loss: 0.5522 - val_accuracy: 0.7490\n",
            "Epoch 5/10\n",
            "288/288 [==============================] - 215s 747ms/step - loss: 0.5436 - accuracy: 0.7594 - val_loss: 0.4255 - val_accuracy: 0.8116\n",
            "Epoch 6/10\n",
            "288/288 [==============================] - 216s 748ms/step - loss: 0.5110 - accuracy: 0.7759 - val_loss: 0.4419 - val_accuracy: 0.7972\n",
            "Epoch 7/10\n",
            "288/288 [==============================] - 211s 732ms/step - loss: 0.4823 - accuracy: 0.7874 - val_loss: 0.4605 - val_accuracy: 0.7968\n",
            "Epoch 8/10\n",
            "288/288 [==============================] - 211s 733ms/step - loss: 0.4684 - accuracy: 0.7885 - val_loss: 0.4643 - val_accuracy: 0.7877\n"
          ]
        }
      ]
    },
    {
      "cell_type": "code",
      "source": [
        "results=model.fit( \n",
        "    train_data,  \n",
        "    epochs=10,\n",
        "    validation_data=test_data,steps_per_epoch=len(train_data),validation_steps=len(test_data),\n",
        "    callbacks=tf.keras.callbacks.EarlyStopping(patience=3,restore_best_weights=True))"
      ],
      "metadata": {
        "colab": {
          "base_uri": "https://localhost:8080/"
        },
        "id": "zNYdyS4LVsjo",
        "outputId": "fd2ee4f9-b481-4095-f3e2-de6e607ecd30"
      },
      "execution_count": null,
      "outputs": [
        {
          "output_type": "stream",
          "name": "stdout",
          "text": [
            "Epoch 1/10\n",
            "288/288 [==============================] - 230s 798ms/step - loss: 0.5095 - accuracy: 0.7867 - val_loss: 0.4932 - val_accuracy: 0.7686\n",
            "Epoch 2/10\n",
            "288/288 [==============================] - 221s 767ms/step - loss: 0.4862 - accuracy: 0.7844 - val_loss: 0.4265 - val_accuracy: 0.8094\n",
            "Epoch 3/10\n",
            "288/288 [==============================] - 220s 764ms/step - loss: 0.4659 - accuracy: 0.8019 - val_loss: 0.4856 - val_accuracy: 0.7911\n",
            "Epoch 4/10\n",
            "288/288 [==============================] - 215s 746ms/step - loss: 0.4578 - accuracy: 0.7970 - val_loss: 0.4065 - val_accuracy: 0.8163\n",
            "Epoch 5/10\n",
            "288/288 [==============================] - 218s 755ms/step - loss: 0.4493 - accuracy: 0.7976 - val_loss: 0.4455 - val_accuracy: 0.8116\n",
            "Epoch 6/10\n",
            "288/288 [==============================] - 212s 736ms/step - loss: 0.4355 - accuracy: 0.8108 - val_loss: 0.4068 - val_accuracy: 0.8224\n",
            "Epoch 7/10\n",
            "288/288 [==============================] - 211s 734ms/step - loss: 0.4305 - accuracy: 0.8131 - val_loss: 0.4318 - val_accuracy: 0.8072\n"
          ]
        }
      ]
    },
    {
      "cell_type": "code",
      "source": [
        "results=model.fit( \n",
        "    train_data,  \n",
        "    epochs=10,\n",
        "    validation_data=test_data,steps_per_epoch=len(train_data),validation_steps=len(test_data),\n",
        "    callbacks=tf.keras.callbacks.EarlyStopping(patience=3,restore_best_weights=True))"
      ],
      "metadata": {
        "id": "X3K3X3ZniDph",
        "colab": {
          "base_uri": "https://localhost:8080/"
        },
        "outputId": "8ec554eb-9292-43da-ae83-5fa28a432055"
      },
      "execution_count": null,
      "outputs": [
        {
          "output_type": "stream",
          "name": "stdout",
          "text": [
            "Epoch 1/10\n",
            "288/288 [==============================] - 218s 757ms/step - loss: 0.4425 - accuracy: 0.8070 - val_loss: 0.4160 - val_accuracy: 0.8068\n",
            "Epoch 2/10\n",
            "288/288 [==============================] - 217s 754ms/step - loss: 0.4486 - accuracy: 0.8040 - val_loss: 0.5194 - val_accuracy: 0.7759\n",
            "Epoch 3/10\n",
            "288/288 [==============================] - 214s 744ms/step - loss: 0.4306 - accuracy: 0.8133 - val_loss: 0.3846 - val_accuracy: 0.8328\n",
            "Epoch 4/10\n",
            "288/288 [==============================] - 215s 746ms/step - loss: 0.4240 - accuracy: 0.8122 - val_loss: 0.4275 - val_accuracy: 0.8163\n",
            "Epoch 5/10\n",
            "288/288 [==============================] - 212s 736ms/step - loss: 0.4242 - accuracy: 0.8170 - val_loss: 0.4140 - val_accuracy: 0.8111\n",
            "Epoch 6/10\n",
            "288/288 [==============================] - 213s 739ms/step - loss: 0.4075 - accuracy: 0.8223 - val_loss: 0.4304 - val_accuracy: 0.8072\n"
          ]
        }
      ]
    },
    {
      "cell_type": "code",
      "source": [
        "results=model.fit( \n",
        "    train_data,  \n",
        "    epochs=10,\n",
        "    validation_data=test_data,steps_per_epoch=len(train_data),validation_steps=len(test_data),\n",
        "    callbacks=tf.keras.callbacks.EarlyStopping(patience=3,restore_best_weights=True))"
      ],
      "metadata": {
        "colab": {
          "base_uri": "https://localhost:8080/"
        },
        "id": "h2qYeM5jjJFr",
        "outputId": "d566a160-9ea9-44c8-b86b-cff77bb1b37b"
      },
      "execution_count": null,
      "outputs": [
        {
          "output_type": "stream",
          "name": "stdout",
          "text": [
            "Epoch 1/10\n",
            "288/288 [==============================] - 229s 794ms/step - loss: 0.4062 - accuracy: 0.8228 - val_loss: 0.4014 - val_accuracy: 0.8215\n",
            "Epoch 2/10\n",
            "288/288 [==============================] - 225s 780ms/step - loss: 0.4322 - accuracy: 0.8096 - val_loss: 0.4174 - val_accuracy: 0.8202\n",
            "Epoch 3/10\n",
            "288/288 [==============================] - 220s 765ms/step - loss: 0.4029 - accuracy: 0.8256 - val_loss: 0.3776 - val_accuracy: 0.8389\n",
            "Epoch 4/10\n",
            "288/288 [==============================] - 224s 777ms/step - loss: 0.3904 - accuracy: 0.8318 - val_loss: 0.3823 - val_accuracy: 0.8372\n",
            "Epoch 5/10\n",
            "288/288 [==============================] - 214s 743ms/step - loss: 0.3704 - accuracy: 0.8409 - val_loss: 0.4215 - val_accuracy: 0.8185\n",
            "Epoch 6/10\n",
            "288/288 [==============================] - 214s 743ms/step - loss: 0.3699 - accuracy: 0.8417 - val_loss: 0.4724 - val_accuracy: 0.8120\n"
          ]
        }
      ]
    },
    {
      "cell_type": "code",
      "source": [
        "model.save('/content/drive/MyDrive/ResNet50V2._83.89%.h5')"
      ],
      "metadata": {
        "id": "axoV0WJbjHfn"
      },
      "execution_count": null,
      "outputs": []
    },
    {
      "cell_type": "code",
      "source": [
        "test_loss, test_acc = model.evaluate(test_data)\n",
        "print('test loss :{}   test accuracy :{}'.format(test_loss,test_acc))"
      ],
      "metadata": {
        "id": "FTvUI7Hginqb",
        "colab": {
          "base_uri": "https://localhost:8080/"
        },
        "outputId": "1ec994a2-7b3e-4a91-f205-cac809fc09e7"
      },
      "execution_count": null,
      "outputs": [
        {
          "output_type": "stream",
          "name": "stdout",
          "text": [
            "72/72 [==============================] - 25s 352ms/step - loss: 0.3776 - accuracy: 0.8389\n",
            "test loss :0.37763628363609314   test accuracy :0.8389057517051697\n"
          ]
        }
      ]
    },
    {
      "cell_type": "code",
      "source": [
        "import matplotlib.pyplot as plt\n",
        "%matplotlib inline\n",
        "plt.plot(results.history['loss'])\n",
        "plt.plot(results.history['val_loss'])\n",
        "plt.legend(['Training', 'Validation'])\n",
        "plt.title('Training and Validation losses')\n",
        "plt.xlabel('epoch')"
      ],
      "metadata": {
        "id": "2eZyOgBTpnkh",
        "colab": {
          "base_uri": "https://localhost:8080/",
          "height": 313
        },
        "outputId": "57f7e351-2b00-4632-ee5e-49ade4d6ea53"
      },
      "execution_count": null,
      "outputs": [
        {
          "output_type": "execute_result",
          "data": {
            "text/plain": [
              "Text(0.5, 0, 'epoch')"
            ]
          },
          "metadata": {},
          "execution_count": 27
        },
        {
          "output_type": "display_data",
          "data": {
            "text/plain": [
              "<Figure size 432x288 with 1 Axes>"
            ],
            "image/png": "[encoded data removed]"
          },
          "metadata": {
            "needs_background": "light"
          }
        }
      ]
    },
    {
      "cell_type": "code",
      "source": [
        "plt.plot(results.history['accuracy'])\n",
        "plt.plot(results.history['val_accuracy'])\n",
        "plt.legend(['Training', 'Validation'])\n",
        "plt.title('Training and Validation accuracy')\n",
        "plt.xlabel('epoch')"
      ],
      "metadata": {
        "id": "ucNoypHIps5T",
        "colab": {
          "base_uri": "https://localhost:8080/",
          "height": 313
        },
        "outputId": "6d0d7160-9bb6-4590-de90-777b81ac9f9d"
      },
      "execution_count": null,
      "outputs": [
        {
          "output_type": "execute_result",
          "data": {
            "text/plain": [
              "Text(0.5, 0, 'epoch')"
            ]
          },
          "metadata": {},
          "execution_count": 28
        },
        {
          "output_type": "display_data",
          "data": {
            "text/plain": [
              "<Figure size 432x288 with 1 Axes>"
            ],
            "image/png": "[encoded data removed]"
          },
          "metadata": {
            "needs_background": "light"
          }
        }
      ]
    }
  ],
  "metadata": {
    "colab": {
      "provenance": []
    },
    "kernelspec": {
      "display_name": "Python 3",
      "name": "python3"
    },
    "language_info": {
      "name": "python"
    },
    "accelerator": "GPU"
  },
  "nbformat": 4,
  "nbformat_minor": 0
}